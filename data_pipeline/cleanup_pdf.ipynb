{
 "cells": [
  {
   "cell_type": "code",
   "execution_count": 592,
   "metadata": {},
   "outputs": [],
   "source": [
    "import pandas as pd\n",
    "import re\n",
    "import numpy as np"
   ]
  },
  {
   "cell_type": "code",
   "execution_count": 593,
   "metadata": {},
   "outputs": [],
   "source": [
    "sicknesses = pd.read_csv(\"../dataset/sicknesses.csv\")"
   ]
  },
  {
   "cell_type": "code",
   "execution_count": 594,
   "metadata": {},
   "outputs": [],
   "source": [
    "sicknesses = sicknesses.drop(columns=['Prevention & Control Measures'])"
   ]
  },
  {
   "cell_type": "code",
   "execution_count": 595,
   "metadata": {},
   "outputs": [],
   "source": [
    "sicknesses = sicknesses[sicknesses.iloc[:, 0] != 'Disease/ Illness']"
   ]
  },
  {
   "cell_type": "code",
   "execution_count": 596,
   "metadata": {},
   "outputs": [],
   "source": [
    "sicknesses = sicknesses.drop(columns=['Diseases'])"
   ]
  },
  {
   "cell_type": "code",
   "execution_count": 597,
   "metadata": {},
   "outputs": [],
   "source": [
    "for i in range(1, len(sicknesses)):\n",
    "    if sicknesses.iloc[i].isnull().any():\n",
    "        sicknesses.iloc[i-1] = sicknesses.iloc[i-1].combine_first(sicknesses.iloc[i])\n",
    "\n",
    "sicknesses = sicknesses.dropna()"
   ]
  },
  {
   "cell_type": "code",
   "execution_count": 598,
   "metadata": {},
   "outputs": [],
   "source": [
    "def extract_link(text):\n",
    "    if isinstance(text, str):\n",
    "        text = \" \".join(text.split())\n",
    "        text = text.replace(\" \", \"\")\n",
    "        link = re.findall(r'(https?[^\\s]*?\\.html)', text)\n",
    "        return link if link else None\n",
    "    return None\n",
    "\n",
    "def remove_urls(text):\n",
    "    url_pattern = re.compile(r'https?://|www\\.')\n",
    "    match = url_pattern.search(text)\n",
    "    if match:\n",
    "        text = text[:match.start()]\n",
    "    return text.strip()\n",
    "\n",
    "sicknesses['Link'] = sicknesses['Disease/ Illness'].apply(extract_link)\n",
    "#print(sicknesses.head())\n",
    "sicknesses['Disease/ Illness'] = sicknesses['Disease/ Illness'].apply(remove_urls)"
   ]
  },
  {
   "cell_type": "code",
   "execution_count": 599,
   "metadata": {},
   "outputs": [],
   "source": [
    "sicknesses_clean = sicknesses.copy()\n",
    "sicknesses_clean.to_csv('../dataset/sicknesses_clean.csv', index=False)"
   ]
  }
 ],
 "metadata": {
  "kernelspec": {
   "display_name": "Python 3",
   "language": "python",
   "name": "python3"
  },
  "language_info": {
   "codemirror_mode": {
    "name": "ipython",
    "version": 3
   },
   "file_extension": ".py",
   "mimetype": "text/x-python",
   "name": "python",
   "nbconvert_exporter": "python",
   "pygments_lexer": "ipython3",
   "version": "3.10.11"
  }
 },
 "nbformat": 4,
 "nbformat_minor": 2
}
